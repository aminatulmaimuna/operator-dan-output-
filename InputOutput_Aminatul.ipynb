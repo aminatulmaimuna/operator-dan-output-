{
 "cells": [
  {
   "cell_type": "code",
   "execution_count": 1,
   "id": "a06e4e42",
   "metadata": {},
   "outputs": [
    {
     "name": "stdout",
     "output_type": "stream",
     "text": [
      "Insert your frist name:aminatul\n",
      "Insert your middle name:mai munah\n",
      "Insert your last nameal amalah\n",
      "Hello aminatul mai munah al amalah !!\n"
     ]
    }
   ],
   "source": [
    "frist_name = input('Insert your frist name:')\n",
    "middle_name = input('Insert your middle name:')\n",
    "last_name = input ('Insert your last name')\n",
    "\n",
    "print(\"Hello\", frist_name,middle_name,last_name, \"!!\" )"
   ]
  },
  {
   "cell_type": "markdown",
   "id": "66e62c61",
   "metadata": {},
   "source": [
    "<h1>Program Hitung luas Dan keliling Persegi Panjang<h1>"
   ]
  },
  {
   "cell_type": "code",
   "execution_count": 4,
   "id": "dc12baac",
   "metadata": {},
   "outputs": [
    {
     "name": "stdout",
     "output_type": "stream",
     "text": [
      "Insert nilai panjang:10\n",
      "Insert nilai luas:20\n",
      "luas = 200\n",
      "keliling= 90\n"
     ]
    }
   ],
   "source": [
    "nilai_p = input('Insert nilai panjang:')\n",
    "nilai_1 = input('Insert nilai luas:')\n",
    "\n",
    "luas =int(nilai_p) * int(nilai_1)\n",
    "keliling  = 3 * (int(nilai_p) + int(nilai_1))\n",
    "\n",
    "print(\"luas =\", luas)\n",
    "print(\"keliling=\", keliling)"
   ]
  },
  {
   "cell_type": "code",
   "execution_count": 3,
   "id": "42e4d284",
   "metadata": {},
   "outputs": [
    {
     "name": "stdout",
     "output_type": "stream",
     "text": [
      "masukan nilai sisi panjang: 5\n",
      "masukan nilai sisi lebar: 4\n",
      "luas persegi panjang: 20\n",
      "keliling pesegi panjang: 18\n"
     ]
    }
   ],
   "source": [
    "#luas => p * l\n",
    "#keliling => 2 * (p+l) !\n",
    "\n",
    "panjang = input ('masukan nilai sisi panjang: ')\n",
    "lebar = input ('masukan nilai sisi lebar: ')\n",
    "\n",
    "luas = int(panjang) * int(lebar)\n",
    "keliling = 2 * (int(panjang) + int(lebar))\n",
    "\n",
    "print(\"luas persegi panjang:\", luas)\n",
    "print(\"keliling pesegi panjang:\", keliling)\n",
    "\n"
   ]
  },
  {
   "cell_type": "markdown",
   "id": "c955bea3",
   "metadata": {},
   "source": [
    "<h1>Output<h1>"
   ]
  },
  {
   "cell_type": "code",
   "execution_count": 5,
   "id": "322b853a",
   "metadata": {},
   "outputs": [
    {
     "name": "stdout",
     "output_type": "stream",
     "text": [
      "25-Mei-2005\n",
      "25\n",
      "Mei\n",
      "2005\n",
      "25/Mei/2005\n"
     ]
    }
   ],
   "source": [
    "print(\"25\",\"Mei\",\"2005\",sep='-')\n",
    "print(\"25\",\"Mei\",\"2005\",sep='\\n')\n",
    "print(\"25\",\"Mei\",\"2005\",sep='/')"
   ]
  },
  {
   "cell_type": "code",
   "execution_count": 18,
   "id": "2a847175",
   "metadata": {},
   "outputs": [
    {
     "name": "stdout",
     "output_type": "stream",
     "text": [
      "1*3*5*7.\n",
      "1*****3*****5*****7.........."
     ]
    }
   ],
   "source": [
    "print(\"1\",\"3\",\"5\",\"7\",sep=\"*\",end=\".\" '\\n')\n",
    "print(\"1\",\"3\",\"5\",\"7\",sep=\"*\" * 5 ,end=\".\" * 10)      "
   ]
  },
  {
   "cell_type": "markdown",
   "id": "7eee4030",
   "metadata": {},
   "source": [
    "<h1>Menformat dengan indeks<h1>"
   ]
  },
  {
   "cell_type": "code",
   "execution_count": 7,
   "id": "0f155185",
   "metadata": {},
   "outputs": [
    {
     "name": "stdout",
     "output_type": "stream",
     "text": [
      "name of month January,Febuary\n"
     ]
    }
   ],
   "source": [
    "month_1 =\"January\"\n",
    "month_2 =\"Febuary\"\n",
    "month_3 =\"March\"\n",
    "\n",
    "print(\"name of month {0},{1}\". format(month_1,month_2))"
   ]
  },
  {
   "cell_type": "code",
   "execution_count": 9,
   "id": "a47e9367",
   "metadata": {},
   "outputs": [
    {
     "name": "stdout",
     "output_type": "stream",
     "text": [
      "My name Aminatul Maimunah\n"
     ]
    }
   ],
   "source": [
    "print(\"My name {fname} {lname}\".format(fname='Aminatul',lname='Maimunah'))"
   ]
  },
  {
   "cell_type": "code",
   "execution_count": 10,
   "id": "2d5dae3a",
   "metadata": {},
   "outputs": [
    {
     "name": "stdout",
     "output_type": "stream",
     "text": [
      "U\n",
      "a\n",
      "Universutas\n",
      "\n",
      "\n",
      "artuP asuN satusrevinU\n"
     ]
    }
   ],
   "source": [
    "kampus =\"Universutas Nusa Putra\"\n",
    "print(kampus[0]) #U\n",
    "print(kampus[-1]) #a\n",
    "\n",
    "#menggunakan range\n",
    "print(kampus[0:11])\n",
    "print(kampus[12:2])\n",
    "print(kampus[-5:1])\n",
    "print(kampus[:: -1])"
   ]
  },
  {
   "cell_type": "markdown",
   "id": "c728ddf9",
   "metadata": {},
   "source": [
    "<h1>Interpolasi menggunakan F-string<h1>"
   ]
  },
  {
   "cell_type": "code",
   "execution_count": 19,
   "id": "ca658e33",
   "metadata": {},
   "outputs": [
    {
     "name": "stdout",
     "output_type": "stream",
     "text": [
      "Luas Persegi = 200\n",
      "Keliling Persegi = 22\n"
     ]
    }
   ],
   "source": [
    "p =10\n",
    "l =20\n",
    "\n",
    "print(f'Luas Persegi = {l*p}')\n",
    "print(f'Keliling Persegi = {2*(p+1)}')"
   ]
  },
  {
   "cell_type": "markdown",
   "id": "e8de465b",
   "metadata": {},
   "source": [
    "<h1>Fungsi<h1>"
   ]
  },
  {
   "cell_type": "code",
   "execution_count": 21,
   "id": "f6a3c93e",
   "metadata": {},
   "outputs": [
    {
     "name": "stdout",
     "output_type": "stream",
     "text": [
      "['Ami', 'Nelsa', 'Rini']\n",
      "Ami@Nelsa@Rini\n"
     ]
    }
   ],
   "source": [
    "nama_siswa =\"Ami,Nelsa,Rini\"\n",
    "\n",
    "print(nama_siswa.split(',')) #Merubah dari string ke list\n",
    "print('@'.join(student_name.split(','))) #merubah dari list ke string"
   ]
  },
  {
   "cell_type": "code",
   "execution_count": 25,
   "id": "b667ca5b",
   "metadata": {},
   "outputs": [
    {
     "name": "stdout",
     "output_type": "stream",
     "text": [
      "Insert your name:Aminatul Maimunah Al Amalah\n",
      "Insert your birthday:25/05/2005\n",
      "your name : Aminatul Maimunah Al Amalah\n",
      "date : 25\n",
      "month : 05\n",
      "year : 2005\n",
      "Intial : AM\n"
     ]
    }
   ],
   "source": [
    "name = input(\"Insert your name:\")\n",
    "birthday = input(\"Insert your birthday:\")\n",
    "\n",
    "birth = birthday.split('/')\n",
    "names = name.split()\n",
    "\n",
    "print(f\"your name : {name}\")\n",
    "print(f\"date : {birth[0]}\")\n",
    "print(f\"month : {birth[1]}\")\n",
    "print(f\"year : {birth[2]}\")\n",
    "print(f\"Intial : {names[0][0]}{names[1][0]}\")"
   ]
  }
 ],
 "metadata": {
  "kernelspec": {
   "display_name": "Python 3 (ipykernel)",
   "language": "python",
   "name": "python3"
  },
  "language_info": {
   "codemirror_mode": {
    "name": "ipython",
    "version": 3
   },
   "file_extension": ".py",
   "mimetype": "text/x-python",
   "name": "python",
   "nbconvert_exporter": "python",
   "pygments_lexer": "ipython3",
   "version": "3.9.12"
  }
 },
 "nbformat": 4,
 "nbformat_minor": 5
}
