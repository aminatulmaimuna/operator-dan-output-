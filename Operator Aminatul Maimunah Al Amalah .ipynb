{
 "cells": [
  {
   "cell_type": "markdown",
   "id": "cd44531e",
   "metadata": {},
   "source": [
    "Operator Aminatul Maimunah"
   ]
  },
  {
   "cell_type": "code",
   "execution_count": 1,
   "id": "d0e3763e",
   "metadata": {},
   "outputs": [
    {
     "name": "stdout",
     "output_type": "stream",
     "text": [
      "27\n",
      "13\n",
      "140\n",
      "2.857142857142857\n",
      "2\n",
      "1280000000\n",
      "6\n"
     ]
    }
   ],
   "source": [
    "num1  = 20\n",
    "num2 = 7\n",
    "\n",
    "hasil_jumlah = num1 + num2\n",
    "hasil_kurang = num1 - num2\n",
    "hasil_kali = num1 * num2\n",
    "hasil_bagi = num1 / num2\n",
    "hasil_bagi_bulat = num1 // num2\n",
    "hasil_pangkat = num1 ** num2\n",
    "hasil_modulus = num1 % num2\n",
    "\n",
    "print(hasil_jumlah)\n",
    "print(hasil_kurang)\n",
    "print(hasil_kali)\n",
    "print(hasil_bagi)\n",
    "print(hasil_bagi_bulat)\n",
    "print(hasil_pangkat)\n",
    "print(hasil_modulus)"
   ]
  },
  {
   "cell_type": "code",
   "execution_count": 4,
   "id": "8b9aa97a",
   "metadata": {},
   "outputs": [
    {
     "name": "stdout",
     "output_type": "stream",
     "text": [
      "10\n",
      "15\n",
      "13\n",
      "104\n",
      "10.4\n",
      "1.0\n",
      "1.0\n"
     ]
    }
   ],
   "source": [
    "x = 10\n",
    "print(x) #10\n",
    "x += 5 #x = x + 5\n",
    "print(x) #15\n",
    "x -= 2 #x = x - 2\n",
    "print(x) #13\n",
    "x *= 8 #x = x * 8\n",
    "print(x) #17\n",
    "x /= 10 #x = x / 10\n",
    "print(x) #11\n",
    "x //= 9 #x = x // 9\n",
    "print(x) #14\n",
    "x **= 7 #x = x ** 7\n",
    "print(x) #19\n",
    "x %= 4 #x = x % 4\n"
   ]
  },
  {
   "cell_type": "markdown",
   "id": "8a33a0a0",
   "metadata": {},
   "source": [
    "Operator Bilangan"
   ]
  },
  {
   "cell_type": "code",
   "execution_count": 6,
   "id": "00da4fc8",
   "metadata": {},
   "outputs": [
    {
     "name": "stdout",
     "output_type": "stream",
     "text": [
      "False\n",
      "True\n",
      "False\n",
      "True\n",
      "True\n",
      "True\n"
     ]
    }
   ],
   "source": [
    "y = 5\n",
    "z = 6\n",
    "\n",
    "print(y==z) #folse\n",
    "print(y!=z) #true\n",
    "print(y>z) #folse\n",
    "print(y<z) #true\n",
    "print(y>=5) #true\n",
    "print(z<=6) #true"
   ]
  },
  {
   "cell_type": "markdown",
   "id": "8f7f714d",
   "metadata": {},
   "source": [
    "Operator Logika"
   ]
  },
  {
   "cell_type": "code",
   "execution_count": 8,
   "id": "72d155c8",
   "metadata": {},
   "outputs": [
    {
     "name": "stdout",
     "output_type": "stream",
     "text": [
      "True\n",
      "False\n",
      "True\n"
     ]
    }
   ],
   "source": [
    "val1 = 10\n",
    "val2 = 5\n",
    "\n",
    "opr_and = val1 > val2 and val1 < 11 #true\n",
    "opr_or = val1 == 9 or val2 >5 #true\n",
    "opr_not = not(opr_and and opr_or) #false\n",
    "\n",
    "print(opr_and)\n",
    "print(opr_or)\n",
    "print(opr_and and opr_not)"
   ]
  },
  {
   "cell_type": "markdown",
   "id": "22eb7015",
   "metadata": {},
   "source": [
    "Operator Identitas"
   ]
  },
  {
   "cell_type": "code",
   "execution_count": 11,
   "id": "af42832d",
   "metadata": {},
   "outputs": [
    {
     "name": "stdout",
     "output_type": "stream",
     "text": [
      "True\n",
      "False\n",
      "True\n",
      "False\n"
     ]
    }
   ],
   "source": [
    "fruits = [\"Apel\", \"Semangka\",\"Durian\"]\n",
    "fav_fruits = fruits\n",
    "your_fruits = [\"Apel\",\"Semangka\",\"Durian\"]\n",
    "name = \"Aminatul\"\n",
    "your_name = \"Aminatul\"\n",
    "\n",
    "print(fav_fruits is fruits)\n",
    "print(fruits is your_fruits)\n",
    "print(name is your_name)\n",
    "print(fav_fruits is not fruits)"
   ]
  },
  {
   "cell_type": "markdown",
   "id": "ddc7f080",
   "metadata": {},
   "source": [
    "Operator Keanggotaan"
   ]
  },
  {
   "cell_type": "code",
   "execution_count": 12,
   "id": "7bde163b",
   "metadata": {},
   "outputs": [
    {
     "name": "stdout",
     "output_type": "stream",
     "text": [
      "True\n",
      "True\n",
      "True\n",
      "False\n",
      "False\n"
     ]
    }
   ],
   "source": [
    "city = [\"prabumulih\", \"palembang\",\"jakarta\"]\n",
    "print(\"prabumulih\" in city)\n",
    "print(\"palembang\" in city)\n",
    "print(\"jakarta\" in city)\n",
    "print(\"surabaya\" in city)\n",
    "print(\"prabumulih\" in city and \"palembang\" not in city)\n",
    "\n",
    "\n"
   ]
  },
  {
   "cell_type": "markdown",
   "id": "17f52b83",
   "metadata": {},
   "source": [
    "Operator Bitwise"
   ]
  },
  {
   "cell_type": "code",
   "execution_count": 15,
   "id": "6dec22fa",
   "metadata": {},
   "outputs": [
    {
     "name": "stdout",
     "output_type": "stream",
     "text": [
      "15\n",
      "255\n",
      "240\n",
      "256\n",
      "32\n"
     ]
    }
   ],
   "source": [
    "nilai1 =255\n",
    "nilai2 =15\n",
    "bit_and = nilai1 & nilai2\n",
    "bit_or = nilai1 | nilai2\n",
    "bit_xor = nilai1 ^ nilai2\n",
    "#11111111 =>255\n",
    "#000011111 =>15\n",
    "#-------------- or\n",
    "#00001111 =>15\n",
    "#11111111 =>255\n",
    "#11110000 =>240\n",
    "\n",
    "print(bit_and)\n",
    "print(bit_or)\n",
    "print(bit_xor)\n",
    "\n",
    "#shift left\n",
    "print(128 << 1)\n",
    "#shift right\n",
    "print(128 >> 2)"
   ]
  }
 ],
 "metadata": {
  "kernelspec": {
   "display_name": "Python 3 (ipykernel)",
   "language": "python",
   "name": "python3"
  },
  "language_info": {
   "codemirror_mode": {
    "name": "ipython",
    "version": 3
   },
   "file_extension": ".py",
   "mimetype": "text/x-python",
   "name": "python",
   "nbconvert_exporter": "python",
   "pygments_lexer": "ipython3",
   "version": "3.9.12"
  }
 },
 "nbformat": 4,
 "nbformat_minor": 5
}
